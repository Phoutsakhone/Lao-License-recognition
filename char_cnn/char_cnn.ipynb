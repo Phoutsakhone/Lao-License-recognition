{
 "cells": [
  {
   "cell_type": "code",
   "execution_count": 1,
   "metadata": {
    "colab": {
     "base_uri": "https://localhost:8080/",
     "height": 34
    },
    "colab_type": "code",
    "executionInfo": {
     "elapsed": 3747,
     "status": "ok",
     "timestamp": 1572000081948,
     "user": {
      "displayName": "Alex Shvj",
      "photoUrl": "",
      "userId": "15430047775759854977"
     },
     "user_tz": -480
    },
    "id": "-b_8OaHWgmGa",
    "outputId": "d1c63f45-18fd-49e7-c7a3-89bd14534762"
   },
   "outputs": [
    {
     "name": "stderr",
     "output_type": "stream",
     "text": [
      "Using TensorFlow backend.\n"
     ]
    }
   ],
   "source": [
    "import skimage.io\n",
    "import skimage.color\n",
    "import skimage.transform\n",
    "import matplotlib.pyplot as plt\n",
    "%matplotlib inline\n",
    "\n",
    "import numpy as np\n",
    "import os\n",
    "import random\n",
    "\n",
    "import keras\n",
    "from keras.datasets import mnist\n",
    "from keras.models import Sequential\n",
    "from keras.layers import Dense, Dropout, Flatten\n",
    "from keras.layers import Conv2D, MaxPooling2D\n",
    "from keras import backend as K"
   ]
  },
  {
   "cell_type": "code",
   "execution_count": 0,
   "metadata": {
    "colab": {},
    "colab_type": "code",
    "id": "6woOb6exfa5l"
   },
   "outputs": [],
   "source": [
    "#######################################################\n",
    "# - อ่านไฟล์ภาพ\n",
    "# - resize ภาพให้มีขนาด 20x20x3\n",
    "# - convert จาก RGB เป็น Gray scale\n",
    "#######################################################\n",
    "\n",
    "DATASET_DIR = 'Lao-License-recognition/dataset/ann'\n",
    "\n",
    "classes = os.listdir(DATASET_DIR)\n",
    "data = []\n",
    "\n",
    "for cls in classes:\n",
    "  class_dir = os.path.join(DATASET_DIR, cls)\n",
    "  files = os.listdir(class_dir)\n",
    "  for f in files:\n",
    "    img = skimage.io.imread(os.path.join(class_dir, f)) # อ่านพิกเซลของภาพ (พิกเซลมีค่า 0-255)\n",
    "    img2 = skimage.transform.resize(img, (20,20,3)) # ปรับขนาดภาพเป็น 20x20 พิกเซล (พิกเซลมีค่า 0-1)\n",
    "    img = skimage.color.rgb2gray(img2) # แปลงเป็น gray scale (พิกเซลมีค่า 0-1)\n",
    "    #img = skimage.util.invert(img) # กลับค่าสี (optional) (พิกเซลมีค่า 0-1)\n",
    "    img = (img - img.min())/(img.max() - img.min()) # ปรับยืดความสว่างและมืดของภาพ (พิกเซลมีค่า 0-1)\n",
    "    data.append({\n",
    "        'x': img,\n",
    "        'y': cls\n",
    "    })\n",
    "    #print(F'{img.min()}, {img.max()}')\n",
    "    \n",
    "random.shuffle(data)"
   ]
  },
  {
   "cell_type": "code",
   "execution_count": 0,
   "metadata": {
    "colab": {},
    "colab_type": "code",
    "id": "8UvTcQWXXkfn"
   },
   "outputs": [],
   "source": [
    "X = [d['x'] for d in data]\n",
    "y = [d['y'] for d in data]\n",
    "\n",
    "# เพิ่มข้อมูลที่มีการรบกวน\n",
    "X.extend([dx + 0.2*np.random.randn(20,20) for dx in X])\n",
    "y.extend(y)\n",
    "\n",
    "# สลับภาพหลังจากเพิ่มภาพเติมแต่ง\n",
    "shf_ind = list(range(len(X)))\n",
    "random.shuffle(shf_ind)\n",
    "X = np.array(X)[shf_ind]\n",
    "y = np.array(y)[shf_ind]\n",
    "\n",
    "\n",
    "ys = list(np.unique(y))\n",
    "y = [ys.index(v) for v in y]\n",
    "\n",
    "x_train = np.array(X[:int(len(X)*0.8)])\n",
    "y_train = np.array(y[:int(len(X)*0.8)])\n",
    "\n",
    "x_test = np.array(X[int(len(X)*0.8):])\n",
    "y_test = np.array(y[int(len(X)*0.8):])"
   ]
  },
  {
   "cell_type": "code",
   "execution_count": 0,
   "metadata": {
    "colab": {},
    "colab_type": "code",
    "id": "Q4b49SM1XowK"
   },
   "outputs": [],
   "source": [
    "batch_size = 128\n",
    "num_classes = len(classes)\n",
    "epochs = 200\n",
    "\n",
    "# input image dimensions\n",
    "img_rows, img_cols = 20, 20"
   ]
  },
  {
   "cell_type": "code",
   "execution_count": 7,
   "metadata": {
    "colab": {
     "base_uri": "https://localhost:8080/",
     "height": 34
    },
    "colab_type": "code",
    "executionInfo": {
     "elapsed": 1566,
     "status": "ok",
     "timestamp": 1572000106908,
     "user": {
      "displayName": "Alex Shvj",
      "photoUrl": "",
      "userId": "15430047775759854977"
     },
     "user_tz": -480
    },
    "id": "Dho1kYPCagJ6",
    "outputId": "6bd2843c-06a3-45cc-c005-4e691c4ae0dc"
   },
   "outputs": [
    {
     "data": {
      "text/plain": [
       "30"
      ]
     },
     "execution_count": 7,
     "metadata": {
      "tags": []
     },
     "output_type": "execute_result"
    }
   ],
   "source": [
    "num_classes"
   ]
  },
  {
   "cell_type": "code",
   "execution_count": 0,
   "metadata": {
    "colab": {},
    "colab_type": "code",
    "id": "96mmJ9FPXsDn"
   },
   "outputs": [],
   "source": [
    "def extend_channel(data):\n",
    "    if K.image_data_format() == 'channels_first':\n",
    "        data = data.reshape(data.shape[0], 1, img_rows, img_cols)\n",
    "    else:\n",
    "        data = data.reshape(data.shape[0], img_rows, img_cols, 1)\n",
    "        \n",
    "    return data\n",
    "\n",
    "x_train = extend_channel(x_train)\n",
    "x_test = extend_channel(x_test)\n",
    "\n",
    "input_shape = x_train.shape[1:]"
   ]
  },
  {
   "cell_type": "code",
   "execution_count": 10,
   "metadata": {
    "colab": {
     "base_uri": "https://localhost:8080/",
     "height": 68
    },
    "colab_type": "code",
    "executionInfo": {
     "elapsed": 1054,
     "status": "ok",
     "timestamp": 1572000114647,
     "user": {
      "displayName": "Alex Shvj",
      "photoUrl": "",
      "userId": "15430047775759854977"
     },
     "user_tz": -480
    },
    "id": "7NIWjfv7XuKl",
    "outputId": "ba7be2ce-7ba4-419e-aa03-0d23920ae68e"
   },
   "outputs": [
    {
     "name": "stdout",
     "output_type": "stream",
     "text": [
      "x_train shape: (2563, 20, 20, 1)\n",
      "2563 train samples\n",
      "641 test samples\n"
     ]
    }
   ],
   "source": [
    "x_train = x_train.astype('float32')\n",
    "x_test = x_test.astype('float32')\n",
    "\n",
    "# ไม่ต้อง normalize ด้วย 255 แล้ว เพราะค่า x แต่ละพิกเซลมีค่าระหว่าง 0.0 - 1.0\n",
    "#x_train /= 255\n",
    "#x_test /= 255\n",
    "\n",
    "print('x_train shape:', x_train.shape)\n",
    "print(x_train.shape[0], 'train samples')\n",
    "print(x_test.shape[0], 'test samples')\n",
    "\n",
    "y_train2 = keras.utils.to_categorical(y_train, num_classes)\n",
    "y_test2 = keras.utils.to_categorical(y_test, num_classes)"
   ]
  },
  {
   "cell_type": "code",
   "execution_count": 11,
   "metadata": {
    "colab": {
     "base_uri": "https://localhost:8080/",
     "height": 326
    },
    "colab_type": "code",
    "executionInfo": {
     "elapsed": 1919,
     "status": "ok",
     "timestamp": 1572000143460,
     "user": {
      "displayName": "Alex Shvj",
      "photoUrl": "",
      "userId": "15430047775759854977"
     },
     "user_tz": -480
    },
    "id": "VBhZy7AnXwM7",
    "outputId": "4fa07c1b-d1a4-41ba-bd43-3f9cffb37fb8"
   },
   "outputs": [
    {
     "name": "stdout",
     "output_type": "stream",
     "text": [
      "WARNING:tensorflow:From /usr/local/lib/python3.6/dist-packages/keras/backend/tensorflow_backend.py:66: The name tf.get_default_graph is deprecated. Please use tf.compat.v1.get_default_graph instead.\n",
      "\n",
      "WARNING:tensorflow:From /usr/local/lib/python3.6/dist-packages/keras/backend/tensorflow_backend.py:541: The name tf.placeholder is deprecated. Please use tf.compat.v1.placeholder instead.\n",
      "\n",
      "WARNING:tensorflow:From /usr/local/lib/python3.6/dist-packages/keras/backend/tensorflow_backend.py:4432: The name tf.random_uniform is deprecated. Please use tf.random.uniform instead.\n",
      "\n",
      "WARNING:tensorflow:From /usr/local/lib/python3.6/dist-packages/keras/backend/tensorflow_backend.py:4267: The name tf.nn.max_pool is deprecated. Please use tf.nn.max_pool2d instead.\n",
      "\n",
      "WARNING:tensorflow:From /usr/local/lib/python3.6/dist-packages/keras/backend/tensorflow_backend.py:148: The name tf.placeholder_with_default is deprecated. Please use tf.compat.v1.placeholder_with_default instead.\n",
      "\n",
      "WARNING:tensorflow:From /usr/local/lib/python3.6/dist-packages/keras/backend/tensorflow_backend.py:3733: calling dropout (from tensorflow.python.ops.nn_ops) with keep_prob is deprecated and will be removed in a future version.\n",
      "Instructions for updating:\n",
      "Please use `rate` instead of `keep_prob`. Rate should be set to `rate = 1 - keep_prob`.\n",
      "WARNING:tensorflow:From /usr/local/lib/python3.6/dist-packages/keras/optimizers.py:793: The name tf.train.Optimizer is deprecated. Please use tf.compat.v1.train.Optimizer instead.\n",
      "\n",
      "WARNING:tensorflow:From /usr/local/lib/python3.6/dist-packages/keras/backend/tensorflow_backend.py:3576: The name tf.log is deprecated. Please use tf.math.log instead.\n",
      "\n"
     ]
    }
   ],
   "source": [
    "model = Sequential()\n",
    "model.add(Conv2D(32, kernel_size=(3, 3),\n",
    "                 activation='relu',\n",
    "                 input_shape=input_shape))\n",
    "model.add(Conv2D(64, (3, 3), activation='relu'))\n",
    "model.add(MaxPooling2D(pool_size=(2, 2)))\n",
    "model.add(Dropout(0.25))\n",
    "model.add(Flatten())\n",
    "model.add(Dense(128, activation='relu'))\n",
    "model.add(Dropout(0.5))\n",
    "model.add(Dense(num_classes, activation='softmax'))\n",
    "\n",
    "model.compile(loss=keras.losses.categorical_crossentropy,\n",
    "              optimizer=keras.optimizers.Adadelta(),\n",
    "              metrics=['accuracy'])"
   ]
  },
  {
   "cell_type": "code",
   "execution_count": 12,
   "metadata": {
    "colab": {
     "base_uri": "https://localhost:8080/",
     "height": 425
    },
    "colab_type": "code",
    "executionInfo": {
     "elapsed": 1093,
     "status": "ok",
     "timestamp": 1572000147606,
     "user": {
      "displayName": "Alex Shvj",
      "photoUrl": "",
      "userId": "15430047775759854977"
     },
     "user_tz": -480
    },
    "id": "N3ROOWi2KtE3",
    "outputId": "6e83f1e7-e435-4ec3-bf91-710734c65ec0"
   },
   "outputs": [
    {
     "name": "stdout",
     "output_type": "stream",
     "text": [
      "Model: \"sequential_1\"\n",
      "_________________________________________________________________\n",
      "Layer (type)                 Output Shape              Param #   \n",
      "=================================================================\n",
      "conv2d_1 (Conv2D)            (None, 18, 18, 32)        320       \n",
      "_________________________________________________________________\n",
      "conv2d_2 (Conv2D)            (None, 16, 16, 64)        18496     \n",
      "_________________________________________________________________\n",
      "max_pooling2d_1 (MaxPooling2 (None, 8, 8, 64)          0         \n",
      "_________________________________________________________________\n",
      "dropout_1 (Dropout)          (None, 8, 8, 64)          0         \n",
      "_________________________________________________________________\n",
      "flatten_1 (Flatten)          (None, 4096)              0         \n",
      "_________________________________________________________________\n",
      "dense_1 (Dense)              (None, 128)               524416    \n",
      "_________________________________________________________________\n",
      "dropout_2 (Dropout)          (None, 128)               0         \n",
      "_________________________________________________________________\n",
      "dense_2 (Dense)              (None, 30)                3870      \n",
      "=================================================================\n",
      "Total params: 547,102\n",
      "Trainable params: 547,102\n",
      "Non-trainable params: 0\n",
      "_________________________________________________________________\n"
     ]
    }
   ],
   "source": [
    "model.summary()"
   ]
  },
  {
   "cell_type": "code",
   "execution_count": 16,
   "metadata": {
    "colab": {
     "base_uri": "https://localhost:8080/",
     "height": 1000
    },
    "colab_type": "code",
    "executionInfo": {
     "elapsed": 64383,
     "status": "ok",
     "timestamp": 1572000334701,
     "user": {
      "displayName": "Alex Shvj",
      "photoUrl": "",
      "userId": "15430047775759854977"
     },
     "user_tz": -480
    },
    "id": "m7wOMQzXXycT",
    "outputId": "f0cf26f7-9011-4e28-e85a-c493a60ccd01"
   },
   "outputs": [
    {
     "name": "stdout",
     "output_type": "stream",
     "text": [
      "Train on 2563 samples, validate on 641 samples\n",
      "Epoch 1/200\n",
      "2563/2563 [==============================] - 0s 136us/step - loss: 0.0018 - acc: 0.9992 - val_loss: 7.1119e-04 - val_acc: 1.0000\n",
      "Epoch 2/200\n",
      "2563/2563 [==============================] - 0s 133us/step - loss: 0.0022 - acc: 0.9992 - val_loss: 0.0011 - val_acc: 1.0000\n",
      "Epoch 3/200\n",
      "2563/2563 [==============================] - 0s 129us/step - loss: 0.0016 - acc: 0.9992 - val_loss: 6.7654e-04 - val_acc: 1.0000\n",
      "Epoch 4/200\n",
      "2563/2563 [==============================] - 0s 130us/step - loss: 0.0013 - acc: 0.9996 - val_loss: 6.8328e-04 - val_acc: 1.0000\n",
      "Epoch 5/200\n",
      "2563/2563 [==============================] - 0s 128us/step - loss: 0.0022 - acc: 0.9992 - val_loss: 0.0014 - val_acc: 1.0000\n",
      "Epoch 6/200\n",
      "2563/2563 [==============================] - 0s 127us/step - loss: 0.0025 - acc: 0.9992 - val_loss: 0.0037 - val_acc: 0.9984\n",
      "Epoch 7/200\n",
      "2563/2563 [==============================] - 0s 129us/step - loss: 0.0032 - acc: 0.9988 - val_loss: 0.0015 - val_acc: 1.0000\n",
      "Epoch 8/200\n",
      "2563/2563 [==============================] - 0s 126us/step - loss: 0.0036 - acc: 0.9984 - val_loss: 0.0011 - val_acc: 1.0000\n",
      "Epoch 9/200\n",
      "2563/2563 [==============================] - 0s 128us/step - loss: 0.0040 - acc: 0.9984 - val_loss: 0.0016 - val_acc: 1.0000\n",
      "Epoch 10/200\n",
      "2563/2563 [==============================] - 0s 127us/step - loss: 0.0019 - acc: 0.9992 - val_loss: 5.3418e-04 - val_acc: 1.0000\n",
      "Epoch 11/200\n",
      "2563/2563 [==============================] - 0s 131us/step - loss: 0.0014 - acc: 0.9996 - val_loss: 0.0011 - val_acc: 1.0000\n",
      "Epoch 12/200\n",
      "2563/2563 [==============================] - 0s 127us/step - loss: 0.0021 - acc: 0.9996 - val_loss: 9.2271e-04 - val_acc: 1.0000\n",
      "Epoch 13/200\n",
      "2563/2563 [==============================] - 0s 127us/step - loss: 0.0039 - acc: 0.9984 - val_loss: 0.0010 - val_acc: 1.0000\n",
      "Epoch 14/200\n",
      "2563/2563 [==============================] - 0s 125us/step - loss: 0.0023 - acc: 0.9988 - val_loss: 0.0014 - val_acc: 1.0000\n",
      "Epoch 15/200\n",
      "2563/2563 [==============================] - 0s 126us/step - loss: 6.0530e-04 - acc: 1.0000 - val_loss: 0.0012 - val_acc: 1.0000\n",
      "Epoch 16/200\n",
      "2563/2563 [==============================] - 0s 126us/step - loss: 7.9311e-04 - acc: 1.0000 - val_loss: 8.6112e-04 - val_acc: 1.0000\n",
      "Epoch 17/200\n",
      "2563/2563 [==============================] - 0s 122us/step - loss: 0.0029 - acc: 0.9984 - val_loss: 0.0013 - val_acc: 1.0000\n",
      "Epoch 18/200\n",
      "2563/2563 [==============================] - 0s 122us/step - loss: 0.0014 - acc: 0.9996 - val_loss: 7.8711e-04 - val_acc: 1.0000\n",
      "Epoch 19/200\n",
      "2563/2563 [==============================] - 0s 131us/step - loss: 0.0018 - acc: 0.9992 - val_loss: 0.0023 - val_acc: 1.0000\n",
      "Epoch 20/200\n",
      "2563/2563 [==============================] - 0s 126us/step - loss: 0.0018 - acc: 0.9992 - val_loss: 8.0261e-04 - val_acc: 1.0000\n",
      "Epoch 21/200\n",
      "2563/2563 [==============================] - 0s 122us/step - loss: 0.0012 - acc: 1.0000 - val_loss: 3.5719e-04 - val_acc: 1.0000\n",
      "Epoch 22/200\n",
      "2563/2563 [==============================] - 0s 122us/step - loss: 0.0041 - acc: 0.9992 - val_loss: 6.1410e-04 - val_acc: 1.0000\n",
      "Epoch 23/200\n",
      "2563/2563 [==============================] - 0s 123us/step - loss: 0.0012 - acc: 1.0000 - val_loss: 8.0095e-04 - val_acc: 1.0000\n",
      "Epoch 24/200\n",
      "2563/2563 [==============================] - 0s 126us/step - loss: 0.0019 - acc: 0.9992 - val_loss: 8.4604e-04 - val_acc: 1.0000\n",
      "Epoch 25/200\n",
      "2563/2563 [==============================] - 0s 123us/step - loss: 0.0011 - acc: 0.9996 - val_loss: 7.2487e-04 - val_acc: 1.0000\n",
      "Epoch 26/200\n",
      "2563/2563 [==============================] - 0s 121us/step - loss: 0.0035 - acc: 0.9996 - val_loss: 0.0014 - val_acc: 1.0000\n",
      "Epoch 27/200\n",
      "2563/2563 [==============================] - 0s 126us/step - loss: 0.0023 - acc: 0.9996 - val_loss: 5.4315e-04 - val_acc: 1.0000\n",
      "Epoch 28/200\n",
      "2563/2563 [==============================] - 0s 123us/step - loss: 0.0022 - acc: 0.9996 - val_loss: 7.7998e-04 - val_acc: 1.0000\n",
      "Epoch 29/200\n",
      "2563/2563 [==============================] - 0s 126us/step - loss: 0.0022 - acc: 0.9996 - val_loss: 4.6004e-04 - val_acc: 1.0000\n",
      "Epoch 30/200\n",
      "2563/2563 [==============================] - 0s 120us/step - loss: 0.0015 - acc: 1.0000 - val_loss: 4.0673e-04 - val_acc: 1.0000\n",
      "Epoch 31/200\n",
      "2563/2563 [==============================] - 0s 129us/step - loss: 0.0014 - acc: 0.9992 - val_loss: 8.0596e-04 - val_acc: 1.0000\n",
      "Epoch 32/200\n",
      "2563/2563 [==============================] - 0s 127us/step - loss: 3.1115e-04 - acc: 1.0000 - val_loss: 6.4557e-04 - val_acc: 1.0000\n",
      "Epoch 33/200\n",
      "2563/2563 [==============================] - 0s 124us/step - loss: 0.0017 - acc: 0.9996 - val_loss: 7.0275e-04 - val_acc: 1.0000\n",
      "Epoch 34/200\n",
      "2563/2563 [==============================] - 0s 123us/step - loss: 6.6521e-04 - acc: 1.0000 - val_loss: 0.0016 - val_acc: 1.0000\n",
      "Epoch 35/200\n",
      "2563/2563 [==============================] - 0s 123us/step - loss: 0.0013 - acc: 0.9992 - val_loss: 0.0016 - val_acc: 1.0000\n",
      "Epoch 36/200\n",
      "2563/2563 [==============================] - 0s 123us/step - loss: 0.0017 - acc: 0.9992 - val_loss: 0.0090 - val_acc: 0.9984\n",
      "Epoch 37/200\n",
      "2563/2563 [==============================] - 0s 122us/step - loss: 6.4400e-04 - acc: 1.0000 - val_loss: 0.0083 - val_acc: 0.9984\n",
      "Epoch 38/200\n",
      "2563/2563 [==============================] - 0s 121us/step - loss: 5.6413e-04 - acc: 0.9996 - val_loss: 9.9205e-04 - val_acc: 1.0000\n",
      "Epoch 39/200\n",
      "2563/2563 [==============================] - 0s 121us/step - loss: 0.0016 - acc: 0.9988 - val_loss: 4.7286e-04 - val_acc: 1.0000\n",
      "Epoch 40/200\n",
      "2563/2563 [==============================] - 0s 121us/step - loss: 8.7165e-04 - acc: 0.9996 - val_loss: 6.5322e-04 - val_acc: 1.0000\n",
      "Epoch 41/200\n",
      "2563/2563 [==============================] - 0s 121us/step - loss: 0.0016 - acc: 0.9996 - val_loss: 7.0040e-04 - val_acc: 1.0000\n",
      "Epoch 42/200\n",
      "2563/2563 [==============================] - 0s 124us/step - loss: 0.0022 - acc: 0.9992 - val_loss: 7.8931e-04 - val_acc: 1.0000\n",
      "Epoch 43/200\n",
      "2563/2563 [==============================] - 0s 122us/step - loss: 0.0013 - acc: 0.9992 - val_loss: 0.0016 - val_acc: 1.0000\n",
      "Epoch 44/200\n",
      "2563/2563 [==============================] - 0s 123us/step - loss: 7.9050e-04 - acc: 1.0000 - val_loss: 7.2757e-04 - val_acc: 1.0000\n",
      "Epoch 45/200\n",
      "2563/2563 [==============================] - 0s 123us/step - loss: 0.0010 - acc: 1.0000 - val_loss: 3.8948e-04 - val_acc: 1.0000\n",
      "Epoch 46/200\n",
      "2563/2563 [==============================] - 0s 124us/step - loss: 5.5114e-04 - acc: 1.0000 - val_loss: 4.5214e-04 - val_acc: 1.0000\n",
      "Epoch 47/200\n",
      "2563/2563 [==============================] - 0s 123us/step - loss: 8.0993e-04 - acc: 1.0000 - val_loss: 0.0010 - val_acc: 1.0000\n",
      "Epoch 48/200\n",
      "2563/2563 [==============================] - 0s 124us/step - loss: 9.4229e-04 - acc: 1.0000 - val_loss: 2.0737e-04 - val_acc: 1.0000\n",
      "Epoch 49/200\n",
      "2563/2563 [==============================] - 0s 123us/step - loss: 0.0036 - acc: 0.9992 - val_loss: 3.3661e-04 - val_acc: 1.0000\n",
      "Epoch 50/200\n",
      "2563/2563 [==============================] - 0s 124us/step - loss: 8.8228e-04 - acc: 1.0000 - val_loss: 2.0868e-04 - val_acc: 1.0000\n",
      "Epoch 51/200\n",
      "2563/2563 [==============================] - 0s 121us/step - loss: 9.4565e-04 - acc: 0.9996 - val_loss: 1.5981e-04 - val_acc: 1.0000\n",
      "Epoch 52/200\n",
      "2563/2563 [==============================] - 0s 124us/step - loss: 9.1338e-04 - acc: 0.9996 - val_loss: 3.8476e-04 - val_acc: 1.0000\n",
      "Epoch 53/200\n",
      "2563/2563 [==============================] - 0s 128us/step - loss: 9.3935e-04 - acc: 0.9996 - val_loss: 3.0265e-04 - val_acc: 1.0000\n",
      "Epoch 54/200\n",
      "2563/2563 [==============================] - 0s 122us/step - loss: 0.0024 - acc: 0.9996 - val_loss: 9.3414e-04 - val_acc: 1.0000\n",
      "Epoch 55/200\n",
      "2563/2563 [==============================] - 0s 124us/step - loss: 0.0014 - acc: 0.9996 - val_loss: 8.3210e-04 - val_acc: 1.0000\n",
      "Epoch 56/200\n",
      "2563/2563 [==============================] - 0s 123us/step - loss: 0.0028 - acc: 0.9996 - val_loss: 7.7017e-04 - val_acc: 1.0000\n",
      "Epoch 57/200\n",
      "2563/2563 [==============================] - 0s 123us/step - loss: 0.0010 - acc: 0.9996 - val_loss: 7.9535e-04 - val_acc: 1.0000\n",
      "Epoch 58/200\n",
      "2563/2563 [==============================] - 0s 124us/step - loss: 0.0021 - acc: 0.9996 - val_loss: 8.4358e-04 - val_acc: 1.0000\n",
      "Epoch 59/200\n",
      "2563/2563 [==============================] - 0s 121us/step - loss: 6.4116e-04 - acc: 1.0000 - val_loss: 4.8319e-04 - val_acc: 1.0000\n",
      "Epoch 60/200\n",
      "2563/2563 [==============================] - 0s 120us/step - loss: 6.1591e-04 - acc: 1.0000 - val_loss: 9.2870e-04 - val_acc: 1.0000\n",
      "Epoch 61/200\n",
      "2563/2563 [==============================] - 0s 125us/step - loss: 0.0041 - acc: 0.9988 - val_loss: 6.8679e-04 - val_acc: 1.0000\n",
      "Epoch 62/200\n",
      "2563/2563 [==============================] - 0s 124us/step - loss: 0.0033 - acc: 0.9984 - val_loss: 5.6358e-04 - val_acc: 1.0000\n",
      "Epoch 63/200\n",
      "2563/2563 [==============================] - 0s 123us/step - loss: 0.0012 - acc: 0.9996 - val_loss: 0.0013 - val_acc: 1.0000\n",
      "Epoch 64/200\n",
      "2563/2563 [==============================] - 0s 123us/step - loss: 0.0014 - acc: 0.9992 - val_loss: 5.1194e-04 - val_acc: 1.0000\n",
      "Epoch 65/200\n",
      "2563/2563 [==============================] - 0s 123us/step - loss: 0.0028 - acc: 0.9992 - val_loss: 5.6971e-04 - val_acc: 1.0000\n",
      "Epoch 66/200\n",
      "2563/2563 [==============================] - 0s 129us/step - loss: 0.0014 - acc: 0.9996 - val_loss: 9.2652e-04 - val_acc: 1.0000\n",
      "Epoch 67/200\n",
      "2563/2563 [==============================] - 0s 123us/step - loss: 0.0031 - acc: 0.9992 - val_loss: 0.0022 - val_acc: 0.9984\n",
      "Epoch 68/200\n",
      "2563/2563 [==============================] - 0s 125us/step - loss: 9.8274e-04 - acc: 0.9996 - val_loss: 0.0015 - val_acc: 1.0000\n",
      "Epoch 69/200\n",
      "2563/2563 [==============================] - 0s 123us/step - loss: 0.0033 - acc: 0.9988 - val_loss: 6.8228e-04 - val_acc: 1.0000\n",
      "Epoch 70/200\n",
      "2563/2563 [==============================] - 0s 130us/step - loss: 5.2108e-04 - acc: 1.0000 - val_loss: 9.9189e-04 - val_acc: 1.0000\n",
      "Epoch 71/200\n",
      "2563/2563 [==============================] - 0s 124us/step - loss: 0.0017 - acc: 0.9996 - val_loss: 0.0015 - val_acc: 1.0000\n",
      "Epoch 72/200\n",
      "2563/2563 [==============================] - 0s 123us/step - loss: 0.0036 - acc: 0.9988 - val_loss: 6.8322e-04 - val_acc: 1.0000\n",
      "Epoch 73/200\n",
      "2563/2563 [==============================] - 0s 123us/step - loss: 0.0017 - acc: 0.9992 - val_loss: 0.0010 - val_acc: 1.0000\n",
      "Epoch 74/200\n",
      "2563/2563 [==============================] - 0s 119us/step - loss: 0.0025 - acc: 0.9996 - val_loss: 0.0017 - val_acc: 1.0000\n",
      "Epoch 75/200\n",
      "2563/2563 [==============================] - 0s 126us/step - loss: 2.5162e-04 - acc: 1.0000 - val_loss: 0.0025 - val_acc: 0.9984\n",
      "Epoch 76/200\n",
      "2563/2563 [==============================] - 0s 120us/step - loss: 7.5430e-04 - acc: 0.9996 - val_loss: 0.0021 - val_acc: 1.0000\n",
      "Epoch 77/200\n",
      "2563/2563 [==============================] - 0s 119us/step - loss: 6.0268e-04 - acc: 1.0000 - val_loss: 0.0022 - val_acc: 0.9984\n",
      "Epoch 78/200\n",
      "2563/2563 [==============================] - 0s 124us/step - loss: 8.1217e-04 - acc: 0.9996 - val_loss: 0.0011 - val_acc: 1.0000\n",
      "Epoch 79/200\n",
      "2563/2563 [==============================] - 0s 122us/step - loss: 2.1777e-04 - acc: 1.0000 - val_loss: 0.0014 - val_acc: 1.0000\n",
      "Epoch 80/200\n",
      "2563/2563 [==============================] - 0s 120us/step - loss: 5.2757e-04 - acc: 1.0000 - val_loss: 0.0013 - val_acc: 1.0000\n",
      "Epoch 81/200\n",
      "2563/2563 [==============================] - 0s 120us/step - loss: 0.0016 - acc: 0.9992 - val_loss: 0.0027 - val_acc: 1.0000\n",
      "Epoch 82/200\n",
      "2563/2563 [==============================] - 0s 119us/step - loss: 0.0038 - acc: 0.9988 - val_loss: 4.2477e-04 - val_acc: 1.0000\n",
      "Epoch 83/200\n",
      "2563/2563 [==============================] - 0s 121us/step - loss: 0.0031 - acc: 0.9984 - val_loss: 5.8450e-04 - val_acc: 1.0000\n",
      "Epoch 84/200\n",
      "2563/2563 [==============================] - 0s 125us/step - loss: 0.0015 - acc: 0.9992 - val_loss: 0.0011 - val_acc: 1.0000\n",
      "Epoch 85/200\n",
      "2563/2563 [==============================] - 0s 123us/step - loss: 0.0022 - acc: 0.9992 - val_loss: 9.9515e-04 - val_acc: 1.0000\n",
      "Epoch 86/200\n",
      "2563/2563 [==============================] - 0s 122us/step - loss: 0.0031 - acc: 0.9988 - val_loss: 0.0012 - val_acc: 1.0000\n",
      "Epoch 87/200\n",
      "2563/2563 [==============================] - 0s 126us/step - loss: 5.2262e-04 - acc: 1.0000 - val_loss: 9.4076e-04 - val_acc: 1.0000\n",
      "Epoch 88/200\n",
      "2563/2563 [==============================] - 0s 119us/step - loss: 0.0012 - acc: 0.9996 - val_loss: 0.0011 - val_acc: 1.0000\n",
      "Epoch 89/200\n",
      "2563/2563 [==============================] - 0s 120us/step - loss: 1.4942e-04 - acc: 1.0000 - val_loss: 6.5168e-04 - val_acc: 1.0000\n",
      "Epoch 90/200\n",
      "2563/2563 [==============================] - 0s 120us/step - loss: 6.0428e-04 - acc: 1.0000 - val_loss: 6.4643e-04 - val_acc: 1.0000\n",
      "Epoch 91/200\n",
      "2563/2563 [==============================] - 0s 125us/step - loss: 0.0015 - acc: 0.9992 - val_loss: 0.0020 - val_acc: 1.0000\n",
      "Epoch 92/200\n",
      "2563/2563 [==============================] - 0s 121us/step - loss: 3.0973e-04 - acc: 1.0000 - val_loss: 0.0019 - val_acc: 0.9984\n",
      "Epoch 93/200\n",
      "2563/2563 [==============================] - 0s 122us/step - loss: 0.0018 - acc: 0.9992 - val_loss: 4.2012e-04 - val_acc: 1.0000\n",
      "Epoch 94/200\n",
      "2563/2563 [==============================] - 0s 121us/step - loss: 0.0026 - acc: 0.9992 - val_loss: 3.5587e-04 - val_acc: 1.0000\n",
      "Epoch 95/200\n",
      "2563/2563 [==============================] - 0s 124us/step - loss: 2.7099e-04 - acc: 1.0000 - val_loss: 3.1964e-04 - val_acc: 1.0000\n",
      "Epoch 96/200\n",
      "2563/2563 [==============================] - 0s 124us/step - loss: 0.0011 - acc: 1.0000 - val_loss: 5.7435e-04 - val_acc: 1.0000\n",
      "Epoch 97/200\n",
      "2563/2563 [==============================] - 0s 120us/step - loss: 0.0017 - acc: 0.9996 - val_loss: 4.9275e-04 - val_acc: 1.0000\n",
      "Epoch 98/200\n",
      "2563/2563 [==============================] - 0s 118us/step - loss: 5.0238e-04 - acc: 1.0000 - val_loss: 9.1708e-04 - val_acc: 1.0000\n",
      "Epoch 99/200\n",
      "2563/2563 [==============================] - 0s 123us/step - loss: 0.0014 - acc: 0.9992 - val_loss: 0.0011 - val_acc: 1.0000\n",
      "Epoch 100/200\n",
      "2563/2563 [==============================] - 0s 125us/step - loss: 2.0153e-04 - acc: 1.0000 - val_loss: 7.9368e-04 - val_acc: 1.0000\n",
      "Epoch 101/200\n",
      "2563/2563 [==============================] - 0s 119us/step - loss: 0.0026 - acc: 0.9984 - val_loss: 9.0574e-04 - val_acc: 1.0000\n",
      "Epoch 102/200\n",
      "2563/2563 [==============================] - 0s 122us/step - loss: 5.9046e-04 - acc: 0.9996 - val_loss: 9.3507e-04 - val_acc: 1.0000\n",
      "Epoch 103/200\n",
      "2563/2563 [==============================] - 0s 119us/step - loss: 4.3336e-04 - acc: 1.0000 - val_loss: 6.2411e-04 - val_acc: 1.0000\n",
      "Epoch 104/200\n",
      "2563/2563 [==============================] - 0s 120us/step - loss: 7.0015e-04 - acc: 1.0000 - val_loss: 8.1383e-04 - val_acc: 1.0000\n",
      "Epoch 105/200\n",
      "2563/2563 [==============================] - 0s 121us/step - loss: 6.9599e-04 - acc: 1.0000 - val_loss: 0.0011 - val_acc: 1.0000\n",
      "Epoch 106/200\n",
      "2563/2563 [==============================] - 0s 120us/step - loss: 0.0016 - acc: 0.9996 - val_loss: 0.0025 - val_acc: 1.0000\n",
      "Epoch 107/200\n",
      "2563/2563 [==============================] - 0s 120us/step - loss: 0.0011 - acc: 1.0000 - val_loss: 0.0015 - val_acc: 1.0000\n",
      "Epoch 108/200\n",
      "2563/2563 [==============================] - 0s 120us/step - loss: 0.0012 - acc: 0.9996 - val_loss: 0.0019 - val_acc: 1.0000\n",
      "Epoch 109/200\n",
      "2563/2563 [==============================] - 0s 127us/step - loss: 0.0021 - acc: 0.9984 - val_loss: 0.0019 - val_acc: 0.9984\n",
      "Epoch 110/200\n",
      "2563/2563 [==============================] - 0s 122us/step - loss: 0.0015 - acc: 0.9996 - val_loss: 0.0021 - val_acc: 0.9984\n",
      "Epoch 111/200\n",
      "2563/2563 [==============================] - 0s 121us/step - loss: 9.7042e-04 - acc: 0.9996 - val_loss: 7.0017e-04 - val_acc: 1.0000\n",
      "Epoch 112/200\n",
      "2563/2563 [==============================] - 0s 121us/step - loss: 0.0014 - acc: 0.9996 - val_loss: 8.1939e-04 - val_acc: 1.0000\n",
      "Epoch 113/200\n",
      "2563/2563 [==============================] - 0s 119us/step - loss: 0.0015 - acc: 0.9996 - val_loss: 0.0011 - val_acc: 1.0000\n",
      "Epoch 114/200\n",
      "2563/2563 [==============================] - 0s 124us/step - loss: 0.0018 - acc: 0.9996 - val_loss: 8.4629e-04 - val_acc: 1.0000\n",
      "Epoch 115/200\n",
      "2563/2563 [==============================] - 0s 125us/step - loss: 5.6694e-04 - acc: 0.9996 - val_loss: 0.0014 - val_acc: 1.0000\n",
      "Epoch 116/200\n",
      "2563/2563 [==============================] - 0s 123us/step - loss: 4.4874e-04 - acc: 1.0000 - val_loss: 0.0019 - val_acc: 1.0000\n",
      "Epoch 117/200\n",
      "2563/2563 [==============================] - 0s 125us/step - loss: 0.0032 - acc: 0.9988 - val_loss: 4.5807e-04 - val_acc: 1.0000\n",
      "Epoch 118/200\n",
      "2563/2563 [==============================] - 0s 123us/step - loss: 0.0042 - acc: 0.9992 - val_loss: 4.3898e-04 - val_acc: 1.0000\n",
      "Epoch 119/200\n",
      "2563/2563 [==============================] - 0s 128us/step - loss: 5.2658e-04 - acc: 1.0000 - val_loss: 4.3167e-04 - val_acc: 1.0000\n",
      "Epoch 120/200\n",
      "2563/2563 [==============================] - 0s 124us/step - loss: 9.0365e-04 - acc: 0.9996 - val_loss: 0.0018 - val_acc: 0.9984\n",
      "Epoch 121/200\n",
      "2563/2563 [==============================] - 0s 126us/step - loss: 0.0027 - acc: 0.9992 - val_loss: 7.2948e-04 - val_acc: 1.0000\n",
      "Epoch 122/200\n",
      "2563/2563 [==============================] - 0s 122us/step - loss: 0.0011 - acc: 0.9996 - val_loss: 0.0010 - val_acc: 1.0000\n",
      "Epoch 123/200\n",
      "2563/2563 [==============================] - 0s 123us/step - loss: 0.0014 - acc: 0.9996 - val_loss: 8.9642e-04 - val_acc: 1.0000\n",
      "Epoch 124/200\n",
      "2563/2563 [==============================] - 0s 124us/step - loss: 0.0033 - acc: 0.9992 - val_loss: 8.3790e-04 - val_acc: 1.0000\n",
      "Epoch 125/200\n",
      "2563/2563 [==============================] - 0s 123us/step - loss: 0.0050 - acc: 0.9988 - val_loss: 0.0011 - val_acc: 1.0000\n",
      "Epoch 126/200\n",
      "2563/2563 [==============================] - 0s 125us/step - loss: 0.0019 - acc: 0.9988 - val_loss: 0.0022 - val_acc: 0.9984\n",
      "Epoch 127/200\n",
      "2563/2563 [==============================] - 0s 122us/step - loss: 0.0057 - acc: 0.9988 - val_loss: 9.8150e-04 - val_acc: 1.0000\n",
      "Epoch 128/200\n",
      "2563/2563 [==============================] - 0s 123us/step - loss: 0.0013 - acc: 0.9996 - val_loss: 6.5664e-04 - val_acc: 1.0000\n",
      "Epoch 129/200\n",
      "2563/2563 [==============================] - 0s 126us/step - loss: 0.0017 - acc: 0.9992 - val_loss: 7.9458e-04 - val_acc: 1.0000\n",
      "Epoch 130/200\n",
      "2563/2563 [==============================] - 0s 126us/step - loss: 0.0022 - acc: 0.9992 - val_loss: 3.1263e-04 - val_acc: 1.0000\n",
      "Epoch 131/200\n",
      "2563/2563 [==============================] - 0s 124us/step - loss: 4.5113e-04 - acc: 1.0000 - val_loss: 2.8975e-04 - val_acc: 1.0000\n",
      "Epoch 132/200\n",
      "2563/2563 [==============================] - 0s 122us/step - loss: 6.9038e-04 - acc: 0.9996 - val_loss: 4.3606e-04 - val_acc: 1.0000\n",
      "Epoch 133/200\n",
      "2563/2563 [==============================] - 0s 120us/step - loss: 0.0021 - acc: 0.9988 - val_loss: 0.0012 - val_acc: 1.0000\n",
      "Epoch 134/200\n",
      "2563/2563 [==============================] - 0s 119us/step - loss: 0.0013 - acc: 0.9996 - val_loss: 7.1512e-04 - val_acc: 1.0000\n",
      "Epoch 135/200\n",
      "2563/2563 [==============================] - 0s 123us/step - loss: 8.8605e-04 - acc: 0.9996 - val_loss: 9.8813e-04 - val_acc: 1.0000\n",
      "Epoch 136/200\n",
      "2563/2563 [==============================] - 0s 127us/step - loss: 7.1369e-04 - acc: 1.0000 - val_loss: 0.0011 - val_acc: 1.0000\n",
      "Epoch 137/200\n",
      "2563/2563 [==============================] - 0s 122us/step - loss: 9.0088e-04 - acc: 1.0000 - val_loss: 0.0019 - val_acc: 1.0000\n",
      "Epoch 138/200\n",
      "2563/2563 [==============================] - 0s 121us/step - loss: 0.0010 - acc: 0.9996 - val_loss: 0.0019 - val_acc: 0.9984\n",
      "Epoch 139/200\n",
      "2563/2563 [==============================] - 0s 120us/step - loss: 8.8990e-04 - acc: 0.9996 - val_loss: 0.0025 - val_acc: 0.9984\n",
      "Epoch 140/200\n",
      "2563/2563 [==============================] - 0s 124us/step - loss: 6.3614e-04 - acc: 1.0000 - val_loss: 0.0019 - val_acc: 1.0000\n",
      "Epoch 141/200\n",
      "2563/2563 [==============================] - 0s 125us/step - loss: 4.2063e-04 - acc: 1.0000 - val_loss: 0.0013 - val_acc: 1.0000\n",
      "Epoch 142/200\n",
      "2563/2563 [==============================] - 0s 122us/step - loss: 9.7275e-04 - acc: 0.9996 - val_loss: 5.7476e-04 - val_acc: 1.0000\n",
      "Epoch 143/200\n",
      "2563/2563 [==============================] - 0s 123us/step - loss: 0.0021 - acc: 0.9992 - val_loss: 3.6725e-04 - val_acc: 1.0000\n",
      "Epoch 144/200\n",
      "2563/2563 [==============================] - 0s 118us/step - loss: 0.0021 - acc: 0.9992 - val_loss: 3.3736e-04 - val_acc: 1.0000\n",
      "Epoch 145/200\n",
      "2563/2563 [==============================] - 0s 121us/step - loss: 4.6098e-04 - acc: 1.0000 - val_loss: 3.3411e-04 - val_acc: 1.0000\n",
      "Epoch 146/200\n",
      "2563/2563 [==============================] - 0s 118us/step - loss: 0.0022 - acc: 0.9980 - val_loss: 7.7112e-04 - val_acc: 1.0000\n",
      "Epoch 147/200\n",
      "2563/2563 [==============================] - 0s 122us/step - loss: 1.3201e-04 - acc: 1.0000 - val_loss: 5.6734e-04 - val_acc: 1.0000\n",
      "Epoch 148/200\n",
      "2563/2563 [==============================] - 0s 122us/step - loss: 0.0011 - acc: 1.0000 - val_loss: 0.0020 - val_acc: 1.0000\n",
      "Epoch 149/200\n",
      "2563/2563 [==============================] - 0s 122us/step - loss: 0.0017 - acc: 0.9996 - val_loss: 0.0013 - val_acc: 1.0000\n",
      "Epoch 150/200\n",
      "2563/2563 [==============================] - 0s 118us/step - loss: 0.0010 - acc: 0.9996 - val_loss: 0.0024 - val_acc: 1.0000\n",
      "Epoch 151/200\n",
      "2563/2563 [==============================] - 0s 119us/step - loss: 0.0016 - acc: 0.9992 - val_loss: 0.0017 - val_acc: 1.0000\n",
      "Epoch 152/200\n",
      "2563/2563 [==============================] - 0s 126us/step - loss: 8.4368e-04 - acc: 0.9996 - val_loss: 4.5944e-04 - val_acc: 1.0000\n",
      "Epoch 153/200\n",
      "2563/2563 [==============================] - 0s 119us/step - loss: 5.8969e-04 - acc: 0.9996 - val_loss: 0.0012 - val_acc: 1.0000\n",
      "Epoch 154/200\n",
      "2563/2563 [==============================] - 0s 121us/step - loss: 0.0033 - acc: 0.9984 - val_loss: 5.7905e-04 - val_acc: 1.0000\n",
      "Epoch 155/200\n",
      "2563/2563 [==============================] - 0s 124us/step - loss: 0.0012 - acc: 0.9996 - val_loss: 4.6591e-04 - val_acc: 1.0000\n",
      "Epoch 156/200\n",
      "2563/2563 [==============================] - 0s 124us/step - loss: 8.5952e-04 - acc: 1.0000 - val_loss: 0.0011 - val_acc: 1.0000\n",
      "Epoch 157/200\n",
      "2563/2563 [==============================] - 0s 120us/step - loss: 0.0056 - acc: 0.9969 - val_loss: 0.0022 - val_acc: 0.9984\n",
      "Epoch 158/200\n",
      "2563/2563 [==============================] - 0s 121us/step - loss: 0.0017 - acc: 0.9992 - val_loss: 0.0016 - val_acc: 0.9984\n",
      "Epoch 159/200\n",
      "2563/2563 [==============================] - 0s 122us/step - loss: 0.0018 - acc: 0.9996 - val_loss: 8.7234e-04 - val_acc: 1.0000\n",
      "Epoch 160/200\n",
      "2563/2563 [==============================] - 0s 117us/step - loss: 0.0017 - acc: 0.9996 - val_loss: 3.9109e-04 - val_acc: 1.0000\n",
      "Epoch 161/200\n",
      "2563/2563 [==============================] - 0s 118us/step - loss: 0.0014 - acc: 0.9988 - val_loss: 0.0023 - val_acc: 0.9984\n",
      "Epoch 162/200\n",
      "2563/2563 [==============================] - 0s 127us/step - loss: 0.0036 - acc: 0.9984 - val_loss: 7.2347e-04 - val_acc: 1.0000\n",
      "Epoch 163/200\n",
      "2563/2563 [==============================] - 0s 120us/step - loss: 0.0017 - acc: 0.9996 - val_loss: 0.0011 - val_acc: 1.0000\n",
      "Epoch 164/200\n",
      "2563/2563 [==============================] - 0s 118us/step - loss: 0.0021 - acc: 0.9992 - val_loss: 7.5524e-04 - val_acc: 1.0000\n",
      "Epoch 165/200\n",
      "2563/2563 [==============================] - 0s 119us/step - loss: 0.0032 - acc: 0.9988 - val_loss: 2.0215e-04 - val_acc: 1.0000\n",
      "Epoch 166/200\n",
      "2563/2563 [==============================] - 0s 123us/step - loss: 8.7901e-04 - acc: 0.9996 - val_loss: 2.3294e-04 - val_acc: 1.0000\n",
      "Epoch 167/200\n",
      "2563/2563 [==============================] - 0s 125us/step - loss: 0.0014 - acc: 0.9996 - val_loss: 3.1704e-04 - val_acc: 1.0000\n",
      "Epoch 168/200\n",
      "2563/2563 [==============================] - 0s 119us/step - loss: 0.0039 - acc: 0.9984 - val_loss: 5.2948e-04 - val_acc: 1.0000\n",
      "Epoch 169/200\n",
      "2563/2563 [==============================] - 0s 122us/step - loss: 0.0026 - acc: 0.9988 - val_loss: 0.0013 - val_acc: 1.0000\n",
      "Epoch 170/200\n",
      "2563/2563 [==============================] - 0s 115us/step - loss: 0.0013 - acc: 0.9996 - val_loss: 0.0028 - val_acc: 0.9984\n",
      "Epoch 171/200\n",
      "2563/2563 [==============================] - 0s 118us/step - loss: 9.4540e-04 - acc: 1.0000 - val_loss: 0.0019 - val_acc: 0.9984\n",
      "Epoch 172/200\n",
      "2563/2563 [==============================] - 0s 116us/step - loss: 5.6369e-04 - acc: 1.0000 - val_loss: 4.9829e-04 - val_acc: 1.0000\n",
      "Epoch 173/200\n",
      "2563/2563 [==============================] - 0s 117us/step - loss: 4.2912e-04 - acc: 1.0000 - val_loss: 2.2755e-04 - val_acc: 1.0000\n",
      "Epoch 174/200\n",
      "2563/2563 [==============================] - 0s 114us/step - loss: 0.0010 - acc: 0.9996 - val_loss: 3.5552e-04 - val_acc: 1.0000\n",
      "Epoch 175/200\n",
      "2563/2563 [==============================] - 0s 120us/step - loss: 0.0010 - acc: 0.9996 - val_loss: 9.0220e-04 - val_acc: 1.0000\n",
      "Epoch 176/200\n",
      "2563/2563 [==============================] - 0s 117us/step - loss: 8.3485e-04 - acc: 0.9996 - val_loss: 0.0018 - val_acc: 1.0000\n",
      "Epoch 177/200\n",
      "2563/2563 [==============================] - 0s 116us/step - loss: 4.0195e-04 - acc: 1.0000 - val_loss: 6.4516e-04 - val_acc: 1.0000\n",
      "Epoch 178/200\n",
      "2563/2563 [==============================] - 0s 118us/step - loss: 8.3751e-04 - acc: 0.9992 - val_loss: 8.9726e-04 - val_acc: 1.0000\n",
      "Epoch 179/200\n",
      "2563/2563 [==============================] - 0s 116us/step - loss: 7.2750e-04 - acc: 0.9996 - val_loss: 6.7591e-04 - val_acc: 1.0000\n",
      "Epoch 180/200\n",
      "2563/2563 [==============================] - 0s 117us/step - loss: 0.0018 - acc: 0.9992 - val_loss: 0.0014 - val_acc: 1.0000\n",
      "Epoch 181/200\n",
      "2563/2563 [==============================] - 0s 117us/step - loss: 0.0012 - acc: 0.9992 - val_loss: 0.0017 - val_acc: 1.0000\n",
      "Epoch 182/200\n",
      "2563/2563 [==============================] - 0s 120us/step - loss: 7.9843e-04 - acc: 0.9996 - val_loss: 9.3639e-04 - val_acc: 1.0000\n",
      "Epoch 183/200\n",
      "2563/2563 [==============================] - 0s 116us/step - loss: 0.0014 - acc: 0.9996 - val_loss: 7.2417e-04 - val_acc: 1.0000\n",
      "Epoch 184/200\n",
      "2563/2563 [==============================] - 0s 115us/step - loss: 6.9577e-04 - acc: 1.0000 - val_loss: 7.5055e-04 - val_acc: 1.0000\n",
      "Epoch 185/200\n",
      "2563/2563 [==============================] - 0s 117us/step - loss: 0.0011 - acc: 0.9996 - val_loss: 0.0013 - val_acc: 1.0000\n",
      "Epoch 186/200\n",
      "2563/2563 [==============================] - 0s 121us/step - loss: 6.1310e-04 - acc: 1.0000 - val_loss: 0.0014 - val_acc: 1.0000\n",
      "Epoch 187/200\n",
      "2563/2563 [==============================] - 0s 116us/step - loss: 3.5225e-04 - acc: 1.0000 - val_loss: 0.0011 - val_acc: 1.0000\n",
      "Epoch 188/200\n",
      "2563/2563 [==============================] - 0s 117us/step - loss: 2.9486e-04 - acc: 1.0000 - val_loss: 0.0013 - val_acc: 1.0000\n",
      "Epoch 189/200\n",
      "2563/2563 [==============================] - 0s 121us/step - loss: 0.0021 - acc: 0.9992 - val_loss: 9.3223e-04 - val_acc: 1.0000\n",
      "Epoch 190/200\n",
      "2563/2563 [==============================] - 0s 115us/step - loss: 0.0021 - acc: 0.9988 - val_loss: 2.0157e-04 - val_acc: 1.0000\n",
      "Epoch 191/200\n",
      "2563/2563 [==============================] - 0s 116us/step - loss: 3.3602e-04 - acc: 1.0000 - val_loss: 2.7919e-04 - val_acc: 1.0000\n",
      "Epoch 192/200\n",
      "2563/2563 [==============================] - 0s 119us/step - loss: 0.0016 - acc: 0.9996 - val_loss: 3.7671e-04 - val_acc: 1.0000\n",
      "Epoch 193/200\n",
      "2563/2563 [==============================] - 0s 122us/step - loss: 3.7106e-04 - acc: 1.0000 - val_loss: 7.7680e-04 - val_acc: 1.0000\n",
      "Epoch 194/200\n",
      "2563/2563 [==============================] - 0s 121us/step - loss: 1.5165e-04 - acc: 1.0000 - val_loss: 5.0260e-04 - val_acc: 1.0000\n",
      "Epoch 195/200\n",
      "2563/2563 [==============================] - 0s 121us/step - loss: 3.0092e-04 - acc: 1.0000 - val_loss: 6.8565e-04 - val_acc: 1.0000\n",
      "Epoch 196/200\n",
      "2563/2563 [==============================] - 0s 121us/step - loss: 4.8644e-04 - acc: 1.0000 - val_loss: 6.5161e-04 - val_acc: 1.0000\n",
      "Epoch 197/200\n",
      "2563/2563 [==============================] - 0s 119us/step - loss: 2.8337e-04 - acc: 1.0000 - val_loss: 7.3255e-04 - val_acc: 1.0000\n",
      "Epoch 198/200\n",
      "2563/2563 [==============================] - 0s 114us/step - loss: 0.0019 - acc: 0.9992 - val_loss: 0.0011 - val_acc: 1.0000\n",
      "Epoch 199/200\n",
      "2563/2563 [==============================] - 0s 120us/step - loss: 2.9302e-04 - acc: 1.0000 - val_loss: 3.4657e-04 - val_acc: 1.0000\n",
      "Epoch 200/200\n",
      "2563/2563 [==============================] - 0s 119us/step - loss: 5.4476e-04 - acc: 0.9996 - val_loss: 3.8540e-04 - val_acc: 1.0000\n"
     ]
    }
   ],
   "source": [
    "history = model.fit(x_train, y_train2,\n",
    "          batch_size=batch_size,\n",
    "          #epochs=1000,\n",
    "          epochs=epochs,\n",
    "          verbose=1,\n",
    "          validation_data=(x_test, y_test2))"
   ]
  },
  {
   "cell_type": "code",
   "execution_count": 17,
   "metadata": {
    "colab": {
     "base_uri": "https://localhost:8080/",
     "height": 51
    },
    "colab_type": "code",
    "executionInfo": {
     "elapsed": 1120,
     "status": "ok",
     "timestamp": 1572000341942,
     "user": {
      "displayName": "Alex Shvj",
      "photoUrl": "",
      "userId": "15430047775759854977"
     },
     "user_tz": -480
    },
    "id": "HA9_zMMWX0u0",
    "outputId": "a5507a38-dfd0-4f6c-cb34-acd35324bb1b"
   },
   "outputs": [
    {
     "name": "stdout",
     "output_type": "stream",
     "text": [
      "Test loss: 0.000385402018211953\n",
      "Test accuracy: 1.0\n"
     ]
    }
   ],
   "source": [
    "score = model.evaluate(x_test, y_test2, verbose=0)\n",
    "\n",
    "print('Test loss:', score[0])\n",
    "print('Test accuracy:', score[1])"
   ]
  },
  {
   "cell_type": "code",
   "execution_count": 0,
   "metadata": {
    "colab": {},
    "colab_type": "code",
    "id": "CRuMFxeAc5n7"
   },
   "outputs": [],
   "source": [
    "model.save_weights('char_cnn.h5')"
   ]
  },
  {
   "cell_type": "code",
   "execution_count": 0,
   "metadata": {
    "colab": {
     "base_uri": "https://localhost:8080/",
     "height": 573
    },
    "colab_type": "code",
    "executionInfo": {
     "elapsed": 2203,
     "status": "ok",
     "timestamp": 1571844302438,
     "user": {
      "displayName": "Sirichai Sasataradol",
      "photoUrl": "",
      "userId": "13082511359013079217"
     },
     "user_tz": -420
    },
    "id": "Za9NDWf1db74",
    "outputId": "5e236b7c-a299-4647-ea07-698572076815"
   },
   "outputs": [
    {
     "data": {
      "image/png": "[encoded data removed]",
      "text/plain": [
       "<Figure size 432x288 with 1 Axes>"
      ]
     },
     "metadata": {
      "tags": []
     },
     "output_type": "display_data"
    },
    {
     "data": {
      "image/png": "[encoded data removed]",
      "text/plain": [
       "<Figure size 432x288 with 1 Axes>"
      ]
     },
     "metadata": {
      "tags": []
     },
     "output_type": "display_data"
    }
   ],
   "source": [
    "# summarize history for accuracy\n",
    "plt.plot(history.history['acc'])\n",
    "plt.plot(history.history['val_acc'])\n",
    "plt.title('model accuracy')\n",
    "plt.ylabel('accuracy')\n",
    "plt.xlabel('epoch')\n",
    "plt.legend(['train', 'test'], loc='upper left')\n",
    "plt.show()\n",
    "# summarize history for loss\n",
    "plt.plot(history.history['loss'])\n",
    "plt.plot(history.history['val_loss'])\n",
    "plt.title('model loss')\n",
    "plt.ylabel('loss')\n",
    "plt.xlabel('epoch')\n",
    "plt.yscale('log')\n",
    "plt.legend(['train', 'test'], loc='upper left')\n",
    "plt.show()"
   ]
  },
  {
   "cell_type": "code",
   "execution_count": 0,
   "metadata": {
    "colab": {
     "base_uri": "https://localhost:8080/",
     "height": 565
    },
    "colab_type": "code",
    "executionInfo": {
     "elapsed": 7985,
     "status": "ok",
     "timestamp": 1571844284197,
     "user": {
      "displayName": "Sirichai Sasataradol",
      "photoUrl": "",
      "userId": "13082511359013079217"
     },
     "user_tz": -420
    },
    "id": "AY-YPZ46Nl8x",
    "outputId": "fb0a945c-9476-4167-d7f1-18a38ae29302"
   },
   "outputs": [
    {
     "data": {
      "image/png": "[encoded data removed]",
      "text/plain": [
       "<Figure size 720x720 with 60 Axes>"
      ]
     },
     "metadata": {
      "tags": []
     },
     "output_type": "display_data"
    }
   ],
   "source": [
    "ncol = 10\n",
    "nrow = 6\n",
    "\n",
    "fig, axs = plt.subplots(nrow, ncol, figsize=(10, 10))\n",
    "\n",
    "for r in range(nrow):\n",
    "  for c in range(ncol):\n",
    "    axs[r][c].imshow(x_test[r*ncol+c].reshape((20, 20)), cmap='gray')\n",
    "plt.show()"
   ]
  },
  {
   "cell_type": "code",
   "execution_count": 0,
   "metadata": {
    "colab": {
     "base_uri": "https://localhost:8080/",
     "height": 54
    },
    "colab_type": "code",
    "id": "V0LxrR_r4bXa",
    "outputId": "6da2267a-f19c-4df7-fa7a-271dd4bfd92a"
   },
   "outputs": [
    {
     "name": "stdout",
     "output_type": "stream",
     "text": [
      "['ກ', 'ກ', '3', 'ສ', '8', '6', '5', '2', '3', '3', '8', '8', '1', '6', '8', 'ຄ', 'ກ', '3', 'ວ', '8', '0', 'ຣ', 'ກ', '5', '4', '6', 'ຫ', '6', 'ວ', '5', 'ສ', '0', '1', '7', '9', '2', '8', 'ກ', 'ອ', '6', '5', '3', 'ຕ', 'ກ', '9', '5', '3', 'ກ', '7', '7', '2', 'ກ', '0', '8', '4', '7', 'ກ', '6', '8', 'ກ', '4', '2', '3', 'ມ', '9', '4', '8', 'ອ', '6', '0', '5', 'ກ', 'ຄ', 'ກ', '0', 'ກ', 'ຂ', 'ກ', '0', '8', '7', 'ຄ', 'ດ', '5', '2', '8', '5', 'ຮ', '2', '8', '7', '9', 'ກ', 'ຈ', '1', '3', 'ນ', '0', '6', 'ຍ', 'ຂ', 'ຜ', '9', 'ກ', 'ພ', '0', 'ດ', 'ກ', 'ຮ', 'ຍ', '6', '5', '8', '9', 'ນ', 'ກ', '3', '5', '1', '2', '1', '0', '3', '8', '0', '1', '7', '2', 'ກ', '4', '3', 'ກ', '0', '1', '4', 'ນ', '1', 'ພ', 'ຮ', '0', '6', '2', 'ຂ', '3', 'ຍ', '8', '4', '3', 'ດ', 'ກ', '1', '6', '3', '3', '8', '6', '0', 'ກ', '3', '9', '7', '6', '4', '9', '2', '1', '0', 'ຮ', '0', '8', 'ສ', 'ຄ', '5', 'ດ', 'ຜ', '2', 'ຄ', '9', '6', 'ກ', '6', 'ກ', '7', '5', '7', 'ຍ', '9', '9', '9', '0', 'ກ', 'ກ', 'ຜ', '7', 'ກ', '5', 'ຄ', 'ກ', '6', '9', 'ຜ', '3', 'ຂ', '4', '2', '6', 'ອ', '8', '9', '9', 'ຂ', 'ຂ', 'ອ', 'ຕ', '3', '2', '3', 'ຈ', '7', '4', '0', '2', '5', '5', '1', 'ຂ', '8', 'ກ', '7', '0', 'ບ', '7', '0', 'ກ', '8', 'ກ', 'ມ', 'ອ', '1', 'ກ', '6', '4', 'ກ', 'ມ', '9', '6', '8', '3', '0', '5', 'ກ', 'ອ', '8', '5', 'ຍ', '7', '5', '5', '5', '7', '6', '0', '9', '5', '8', '0', '1', '5', '4', '0', '5', '4', '8', '3', '0', '0', '8', 'ຜ', '6', '9', '7', '3', '4', '8', '7', '9', '8', '7', '6', '7', '3', '2', '6', '7', '7', '9', '2', '6', 'ຮ', '0', '6', '0', 'ກ', 'ລ', '9', '9', '1', 'ຈ', '8', 'ຜ', '6', '6', '3', 'ຈ', '9', '1', '0', '9', '1', 'ພ', 'ຮ']\n"
     ]
    }
   ],
   "source": [
    "#model.predict_classes(x_test)\n",
    "print([ys[c] for c in model.predict_classes(x_test)])"
   ]
  },
  {
   "cell_type": "code",
   "execution_count": 0,
   "metadata": {
    "colab": {
     "base_uri": "https://localhost:8080/",
     "height": 340
    },
    "colab_type": "code",
    "id": "g_R8Sm544gL5",
    "outputId": "897691a5-268f-4dc4-8da3-4d58b6cf25ad"
   },
   "outputs": [
    {
     "data": {
      "text/plain": [
       "array([10, 10,  3, 26,  8,  6,  5,  2,  3,  3,  8,  8,  1,  6,  8, 12, 10,\n",
       "        3, 25,  8,  0, 23, 10,  5,  4,  6, 27,  6, 25,  5, 26,  0,  1,  7,\n",
       "        9,  2,  8, 10, 28,  6,  5,  3, 16, 10,  9,  5,  3, 10,  7,  7,  2,\n",
       "       10,  0,  8,  4,  7, 10,  6,  8, 10,  4,  2,  3, 22,  9,  4,  8, 28,\n",
       "        6,  0,  5, 10, 12, 10,  0, 10, 11, 10,  0,  8,  7, 12, 15,  5,  2,\n",
       "        8,  5, 29,  2,  8,  7,  9, 10, 13,  1,  3, 18,  0,  6, 14, 11, 20,\n",
       "        9, 10, 21,  0, 15, 10, 29, 14,  6,  5,  8,  9, 18, 10,  3,  5,  1,\n",
       "        2,  1,  0,  3,  8,  0,  1,  7,  2, 10,  4,  3, 10,  0,  1,  4, 18,\n",
       "        1, 21, 29,  0,  6,  2, 11,  3, 14,  8,  4,  3, 15, 10,  1,  6,  3,\n",
       "        3,  8,  6,  0, 10,  3,  9,  7,  6,  4,  9,  2,  1,  0, 29,  0,  8,\n",
       "       26, 12,  5, 15, 20,  2, 12,  9,  6, 10,  6, 10,  7,  5,  7, 14,  9,\n",
       "        9,  9,  0, 10, 10, 20,  7, 10,  5, 12, 10,  6,  9, 20,  3, 11,  4,\n",
       "        2,  6, 28,  8,  9,  9, 11, 11, 28, 15,  3,  2,  3, 13,  7,  4,  0,\n",
       "        2,  5,  5,  1, 11,  8, 10,  7,  0, 19,  7,  0, 10,  8, 10, 22, 28,\n",
       "        1, 10,  6,  4, 10, 22,  9,  6,  8,  3,  0,  5, 10, 28,  8,  5, 14,\n",
       "        7,  5,  5,  5,  7,  6,  0,  9,  5,  8,  0,  1,  5,  4,  0,  5,  4,\n",
       "        8,  3,  0,  0,  8, 20,  6,  9,  7,  3,  4,  8,  7,  9,  8,  7,  6,\n",
       "        7,  3,  2,  6,  7,  7,  9,  2,  6, 29,  0,  6,  0, 10, 24,  9,  9,\n",
       "        1, 13,  8, 20,  6,  6,  3, 13,  9,  1,  0,  9,  1, 21, 29])"
      ]
     },
     "execution_count": 16,
     "metadata": {
      "tags": []
     },
     "output_type": "execute_result"
    }
   ],
   "source": [
    "y_test"
   ]
  },
  {
   "cell_type": "code",
   "execution_count": 0,
   "metadata": {
    "colab": {
     "base_uri": "https://localhost:8080/",
     "height": 527
    },
    "colab_type": "code",
    "id": "B3b3VSHa-ao7",
    "outputId": "856ef2de-e215-4227-fc4d-a1fc89890f9a"
   },
   "outputs": [
    {
     "data": {
      "text/plain": [
       "['0',\n",
       " '1',\n",
       " '2',\n",
       " '3',\n",
       " '4',\n",
       " '5',\n",
       " '6',\n",
       " '7',\n",
       " '8',\n",
       " '9',\n",
       " 'ກ',\n",
       " 'ຂ',\n",
       " 'ຄ',\n",
       " 'ຈ',\n",
       " 'ຍ',\n",
       " 'ດ',\n",
       " 'ຕ',\n",
       " 'ທ',\n",
       " 'ນ',\n",
       " 'ບ',\n",
       " 'ຜ',\n",
       " 'ພ',\n",
       " 'ມ',\n",
       " 'ຣ',\n",
       " 'ລ',\n",
       " 'ວ',\n",
       " 'ສ',\n",
       " 'ຫ',\n",
       " 'ອ',\n",
       " 'ຮ']"
      ]
     },
     "execution_count": 17,
     "metadata": {
      "tags": []
     },
     "output_type": "execute_result"
    }
   ],
   "source": [
    "ys"
   ]
  },
  {
   "cell_type": "code",
   "execution_count": 0,
   "metadata": {
    "colab": {
     "base_uri": "https://localhost:8080/",
     "height": 34
    },
    "colab_type": "code",
    "executionInfo": {
     "elapsed": 2433,
     "status": "ok",
     "timestamp": 1571843813035,
     "user": {
      "displayName": "Sirichai Sasataradol",
      "photoUrl": "",
      "userId": "13082511359013079217"
     },
     "user_tz": -420
    },
    "id": "TwXl6JEa89c5",
    "outputId": "7ba6a801-d28c-4b43-a76e-2e64f19ed81c"
   },
   "outputs": [
    {
     "data": {
      "text/plain": [
       "(array([ 96, 435]),)"
      ]
     },
     "execution_count": 17,
     "metadata": {
      "tags": []
     },
     "output_type": "execute_result"
    }
   ],
   "source": [
    "y_predict = model.predict_classes(x_test)\n",
    "\n",
    "indx_error = np.where(y_test!=y_predict)\n",
    "indx_error"
   ]
  },
  {
   "cell_type": "code",
   "execution_count": 0,
   "metadata": {
    "colab": {
     "base_uri": "https://localhost:8080/",
     "height": 191
    },
    "colab_type": "code",
    "executionInfo": {
     "elapsed": 2077,
     "status": "ok",
     "timestamp": 1571843823432,
     "user": {
      "displayName": "Sirichai Sasataradol",
      "photoUrl": "",
      "userId": "13082511359013079217"
     },
     "user_tz": -420
    },
    "id": "i57hWh4oMN15",
    "outputId": "ec905ba7-c448-4baa-ce6c-9a40cd0a69b2"
   },
   "outputs": [
    {
     "data": {
      "image/png": "[encoded data removed]",
      "text/plain": [
       "<Figure size 960x560 with 2 Axes>"
      ]
     },
     "metadata": {
      "tags": []
     },
     "output_type": "display_data"
    }
   ],
   "source": [
    "test_err = y_test[indx_error]\n",
    "prid_err = y_predict[indx_error]\n",
    "\n",
    "plt.figure(figsize=(12, indx_error[0].shape[0]*14//4), dpi= 80, facecolor='w', edgecolor='k')\n",
    "for i in range(indx_error[0].shape[0]):\n",
    "    plt.subplot(int(indx_error[0].shape[0])+1,4,i+1)\n",
    "    plt.imshow(x_test[indx_error[0][i]].reshape((20,20)), cmap='gray', interpolation='none')\n",
    "    plt.title('target{}: predict{}'.format(ys[test_err[i]], ys[prid_err[i]]))\n",
    "\n",
    "plt.show()"
   ]
  },
  {
   "cell_type": "code",
   "execution_count": 0,
   "metadata": {
    "colab": {},
    "colab_type": "code",
    "id": "ZSK9rUShMU7j"
   },
   "outputs": [],
   "source": []
  }
 ],
 "metadata": {
  "accelerator": "GPU",
  "colab": {
   "collapsed_sections": [],
   "name": "char_cnn.ipynb",
   "provenance": []
  },
  "kernelspec": {
   "display_name": "Python 3",
   "language": "python",
   "name": "python3"
  },
  "language_info": {
   "codemirror_mode": {
    "name": "ipython",
    "version": 3
   },
   "file_extension": ".py",
   "mimetype": "text/x-python",
   "name": "python",
   "nbconvert_exporter": "python",
   "pygments_lexer": "ipython3",
   "version": "3.6.9"
  }
 },
 "nbformat": 4,
 "nbformat_minor": 1
}
